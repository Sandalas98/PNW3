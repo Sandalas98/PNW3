{
 "cells": [
  {
   "cell_type": "markdown",
   "metadata": {},
   "source": [
    "## Brudnopis, tu odbywa się testowanie środowiska."
   ]
  },
  {
   "cell_type": "code",
   "execution_count": 1,
   "metadata": {},
   "outputs": [
    {
     "name": "stderr",
     "output_type": "stream",
     "text": [
      "\n"
     ]
    },
    {
     "name": "stdout",
     "output_type": "stream",
     "text": [
      "Track generation: 1215..1523 -> 308-tiles track\n",
      "Track generation: 1215..1523 -> 308-tiles track\n"
     ]
    },
    {
     "ename": "KeyboardInterrupt",
     "evalue": "",
     "output_type": "error",
     "traceback": [
      "\u001b[0;31m---------------------------------------------------------------------------\u001b[0m",
      "\u001b[0;31mKeyboardInterrupt\u001b[0m                         Traceback (most recent call last)",
      "\u001b[1;32m/home/sandalas/studia/10_sem/Ucz_masz_anim/main.ipynb Cell 2'\u001b[0m in \u001b[0;36m<cell line: 15>\u001b[0;34m()\u001b[0m\n\u001b[1;32m     <a href='vscode-notebook-cell:/home/sandalas/studia/10_sem/Ucz_masz_anim/main.ipynb#ch0000000?line=11'>12</a>\u001b[0m \u001b[39mfrom\u001b[39;00m \u001b[39mGA\u001b[39;00m \u001b[39mimport\u001b[39;00m GeneticAlg\n\u001b[1;32m     <a href='vscode-notebook-cell:/home/sandalas/studia/10_sem/Ucz_masz_anim/main.ipynb#ch0000000?line=12'>13</a>\u001b[0m ga \u001b[39m=\u001b[39m GeneticAlg()\n\u001b[0;32m---> <a href='vscode-notebook-cell:/home/sandalas/studia/10_sem/Ucz_masz_anim/main.ipynb#ch0000000?line=14'>15</a>\u001b[0m ga\u001b[39m.\u001b[39;49mrun()\n",
      "File \u001b[0;32m~/studia/10_sem/Ucz_masz_anim/GA.py:131\u001b[0m, in \u001b[0;36mGeneticAlg.run\u001b[0;34m(self, population_size, generations, crossover_prob, mutation_prob, subject_steps)\u001b[0m\n\u001b[1;32m    <a href='file:///home/sandalas/studia/10_sem/Ucz_masz_anim/GA.py?line=127'>128</a>\u001b[0m \u001b[39m# Ocena populacji:\u001b[39;00m\n\u001b[1;32m    <a href='file:///home/sandalas/studia/10_sem/Ucz_masz_anim/GA.py?line=128'>129</a>\u001b[0m \u001b[39mfor\u001b[39;00m sbj \u001b[39min\u001b[39;00m \u001b[39mrange\u001b[39m(\u001b[39mlen\u001b[39m(population)):\n\u001b[0;32m--> <a href='file:///home/sandalas/studia/10_sem/Ucz_masz_anim/GA.py?line=130'>131</a>\u001b[0m     population[sbj]\u001b[39m.\u001b[39mfitness \u001b[39m=\u001b[39m \u001b[39mself\u001b[39;49m\u001b[39m.\u001b[39;49mevaluate_subject(population[sbj], subject_steps)\n\u001b[1;32m    <a href='file:///home/sandalas/studia/10_sem/Ucz_masz_anim/GA.py?line=131'>132</a>\u001b[0m     \u001b[39mprint\u001b[39m(\u001b[39mf\u001b[39m\u001b[39m'\u001b[39m\u001b[39mSubject: \u001b[39m\u001b[39m{\u001b[39;00msbj\u001b[39m+\u001b[39m\u001b[39m1\u001b[39m\u001b[39m}\u001b[39;00m\u001b[39m/\u001b[39m\u001b[39m{\u001b[39;00m\u001b[39mlen\u001b[39m(population)\u001b[39m}\u001b[39;00m\u001b[39m, generation: \u001b[39m\u001b[39m{\u001b[39;00mgeneration\u001b[39m+\u001b[39m\u001b[39m1\u001b[39m\u001b[39m}\u001b[39;00m\u001b[39m/\u001b[39m\u001b[39m{\u001b[39;00mgenerations\u001b[39m}\u001b[39;00m\u001b[39m, fitness: \u001b[39m\u001b[39m{\u001b[39;00mpopulation[sbj]\u001b[39m.\u001b[39mfitness\u001b[39m}\u001b[39;00m\u001b[39m'\u001b[39m)\n\u001b[1;32m    <a href='file:///home/sandalas/studia/10_sem/Ucz_masz_anim/GA.py?line=132'>133</a>\u001b[0m     mean_fitness\u001b[39m.\u001b[39mappend(population[sbj]\u001b[39m.\u001b[39mfitness)\n",
      "File \u001b[0;32m~/studia/10_sem/Ucz_masz_anim/GA.py:80\u001b[0m, in \u001b[0;36mGeneticAlg.evaluate_subject\u001b[0;34m(self, sbj, sbj_steps)\u001b[0m\n\u001b[1;32m     <a href='file:///home/sandalas/studia/10_sem/Ucz_masz_anim/GA.py?line=77'>78</a>\u001b[0m next_step \u001b[39m=\u001b[39m sbj\u001b[39m.\u001b[39mcalculate_decision(state)\n\u001b[1;32m     <a href='file:///home/sandalas/studia/10_sem/Ucz_masz_anim/GA.py?line=78'>79</a>\u001b[0m \u001b[39m# Wykonanie kroku\u001b[39;00m\n\u001b[0;32m---> <a href='file:///home/sandalas/studia/10_sem/Ucz_masz_anim/GA.py?line=79'>80</a>\u001b[0m state, _, _, _ \u001b[39m=\u001b[39m \u001b[39mself\u001b[39;49m\u001b[39m.\u001b[39;49menv\u001b[39m.\u001b[39;49mstep(next_step)\n\u001b[1;32m     <a href='file:///home/sandalas/studia/10_sem/Ucz_masz_anim/GA.py?line=81'>82</a>\u001b[0m \u001b[39mif\u001b[39;00m mp\u001b[39m.\u001b[39mis_car_on_grass(state[:,:,\u001b[39m1\u001b[39m]):\n\u001b[1;32m     <a href='file:///home/sandalas/studia/10_sem/Ucz_masz_anim/GA.py?line=82'>83</a>\u001b[0m     \u001b[39mreturn\u001b[39;00m \u001b[39m0\u001b[39m\n",
      "File \u001b[0;32m~/.local/lib/python3.9/site-packages/gym/wrappers/time_limit.py:17\u001b[0m, in \u001b[0;36mTimeLimit.step\u001b[0;34m(self, action)\u001b[0m\n\u001b[1;32m     <a href='file:///home/sandalas/.local/lib/python3.9/site-packages/gym/wrappers/time_limit.py?line=15'>16</a>\u001b[0m \u001b[39mdef\u001b[39;00m \u001b[39mstep\u001b[39m(\u001b[39mself\u001b[39m, action):\n\u001b[0;32m---> <a href='file:///home/sandalas/.local/lib/python3.9/site-packages/gym/wrappers/time_limit.py?line=16'>17</a>\u001b[0m     observation, reward, done, info \u001b[39m=\u001b[39m \u001b[39mself\u001b[39;49m\u001b[39m.\u001b[39;49menv\u001b[39m.\u001b[39;49mstep(action)\n\u001b[1;32m     <a href='file:///home/sandalas/.local/lib/python3.9/site-packages/gym/wrappers/time_limit.py?line=17'>18</a>\u001b[0m     \u001b[39mself\u001b[39m\u001b[39m.\u001b[39m_elapsed_steps \u001b[39m+\u001b[39m\u001b[39m=\u001b[39m \u001b[39m1\u001b[39m\n\u001b[1;32m     <a href='file:///home/sandalas/.local/lib/python3.9/site-packages/gym/wrappers/time_limit.py?line=18'>19</a>\u001b[0m     \u001b[39mif\u001b[39;00m \u001b[39mself\u001b[39m\u001b[39m.\u001b[39m_elapsed_steps \u001b[39m>\u001b[39m\u001b[39m=\u001b[39m \u001b[39mself\u001b[39m\u001b[39m.\u001b[39m_max_episode_steps:\n",
      "File \u001b[0;32m~/.local/lib/python3.9/site-packages/gym/wrappers/order_enforcing.py:13\u001b[0m, in \u001b[0;36mOrderEnforcing.step\u001b[0;34m(self, action)\u001b[0m\n\u001b[1;32m     <a href='file:///home/sandalas/.local/lib/python3.9/site-packages/gym/wrappers/order_enforcing.py?line=10'>11</a>\u001b[0m \u001b[39mdef\u001b[39;00m \u001b[39mstep\u001b[39m(\u001b[39mself\u001b[39m, action):\n\u001b[1;32m     <a href='file:///home/sandalas/.local/lib/python3.9/site-packages/gym/wrappers/order_enforcing.py?line=11'>12</a>\u001b[0m     \u001b[39massert\u001b[39;00m \u001b[39mself\u001b[39m\u001b[39m.\u001b[39m_has_reset, \u001b[39m\"\u001b[39m\u001b[39mCannot call env.step() before calling reset()\u001b[39m\u001b[39m\"\u001b[39m\n\u001b[0;32m---> <a href='file:///home/sandalas/.local/lib/python3.9/site-packages/gym/wrappers/order_enforcing.py?line=12'>13</a>\u001b[0m     observation, reward, done, info \u001b[39m=\u001b[39m \u001b[39mself\u001b[39;49m\u001b[39m.\u001b[39;49menv\u001b[39m.\u001b[39;49mstep(action)\n\u001b[1;32m     <a href='file:///home/sandalas/.local/lib/python3.9/site-packages/gym/wrappers/order_enforcing.py?line=13'>14</a>\u001b[0m     \u001b[39mreturn\u001b[39;00m observation, reward, done, info\n",
      "File \u001b[0;32m~/.local/lib/python3.9/site-packages/gym/envs/box2d/car_racing.py:417\u001b[0m, in \u001b[0;36mCarRacing.step\u001b[0;34m(self, action)\u001b[0m\n\u001b[1;32m    <a href='file:///home/sandalas/.local/lib/python3.9/site-packages/gym/envs/box2d/car_racing.py?line=413'>414</a>\u001b[0m \u001b[39mself\u001b[39m\u001b[39m.\u001b[39mworld\u001b[39m.\u001b[39mStep(\u001b[39m1.0\u001b[39m \u001b[39m/\u001b[39m FPS, \u001b[39m6\u001b[39m \u001b[39m*\u001b[39m \u001b[39m30\u001b[39m, \u001b[39m2\u001b[39m \u001b[39m*\u001b[39m \u001b[39m30\u001b[39m)\n\u001b[1;32m    <a href='file:///home/sandalas/.local/lib/python3.9/site-packages/gym/envs/box2d/car_racing.py?line=414'>415</a>\u001b[0m \u001b[39mself\u001b[39m\u001b[39m.\u001b[39mt \u001b[39m+\u001b[39m\u001b[39m=\u001b[39m \u001b[39m1.0\u001b[39m \u001b[39m/\u001b[39m FPS\n\u001b[0;32m--> <a href='file:///home/sandalas/.local/lib/python3.9/site-packages/gym/envs/box2d/car_racing.py?line=416'>417</a>\u001b[0m \u001b[39mself\u001b[39m\u001b[39m.\u001b[39mstate \u001b[39m=\u001b[39m \u001b[39mself\u001b[39;49m\u001b[39m.\u001b[39;49mrender(\u001b[39m\"\u001b[39;49m\u001b[39mstate_pixels\u001b[39;49m\u001b[39m\"\u001b[39;49m)\n\u001b[1;32m    <a href='file:///home/sandalas/.local/lib/python3.9/site-packages/gym/envs/box2d/car_racing.py?line=418'>419</a>\u001b[0m step_reward \u001b[39m=\u001b[39m \u001b[39m0\u001b[39m\n\u001b[1;32m    <a href='file:///home/sandalas/.local/lib/python3.9/site-packages/gym/envs/box2d/car_racing.py?line=419'>420</a>\u001b[0m done \u001b[39m=\u001b[39m \u001b[39mFalse\u001b[39;00m\n",
      "File \u001b[0;32m~/.local/lib/python3.9/site-packages/gym/envs/box2d/car_racing.py:457\u001b[0m, in \u001b[0;36mCarRacing.render\u001b[0;34m(self, mode)\u001b[0m\n\u001b[1;32m    <a href='file:///home/sandalas/.local/lib/python3.9/site-packages/gym/envs/box2d/car_racing.py?line=453'>454</a>\u001b[0m trans \u001b[39m=\u001b[39m pygame\u001b[39m.\u001b[39mmath\u001b[39m.\u001b[39mVector2((scroll_x, scroll_y))\u001b[39m.\u001b[39mrotate_rad(angle)\n\u001b[1;32m    <a href='file:///home/sandalas/.local/lib/python3.9/site-packages/gym/envs/box2d/car_racing.py?line=454'>455</a>\u001b[0m trans \u001b[39m=\u001b[39m (WINDOW_W \u001b[39m/\u001b[39m \u001b[39m2\u001b[39m \u001b[39m+\u001b[39m trans[\u001b[39m0\u001b[39m], WINDOW_H \u001b[39m/\u001b[39m \u001b[39m4\u001b[39m \u001b[39m+\u001b[39m trans[\u001b[39m1\u001b[39m])\n\u001b[0;32m--> <a href='file:///home/sandalas/.local/lib/python3.9/site-packages/gym/envs/box2d/car_racing.py?line=456'>457</a>\u001b[0m \u001b[39mself\u001b[39;49m\u001b[39m.\u001b[39;49mrender_road(zoom, trans, angle)\n\u001b[1;32m    <a href='file:///home/sandalas/.local/lib/python3.9/site-packages/gym/envs/box2d/car_racing.py?line=457'>458</a>\u001b[0m \u001b[39mself\u001b[39m\u001b[39m.\u001b[39mcar\u001b[39m.\u001b[39mdraw(\u001b[39mself\u001b[39m\u001b[39m.\u001b[39msurf, zoom, trans, angle, mode \u001b[39m!=\u001b[39m \u001b[39m\"\u001b[39m\u001b[39mstate_pixels\u001b[39m\u001b[39m\"\u001b[39m)\n\u001b[1;32m    <a href='file:///home/sandalas/.local/lib/python3.9/site-packages/gym/envs/box2d/car_racing.py?line=459'>460</a>\u001b[0m \u001b[39mself\u001b[39m\u001b[39m.\u001b[39msurf \u001b[39m=\u001b[39m pygame\u001b[39m.\u001b[39mtransform\u001b[39m.\u001b[39mflip(\u001b[39mself\u001b[39m\u001b[39m.\u001b[39msurf, \u001b[39mFalse\u001b[39;00m, \u001b[39mTrue\u001b[39;00m)\n",
      "File \u001b[0;32m~/.local/lib/python3.9/site-packages/gym/envs/box2d/car_racing.py:510\u001b[0m, in \u001b[0;36mCarRacing.render_road\u001b[0;34m(self, zoom, translation, angle)\u001b[0m\n\u001b[1;32m    <a href='file:///home/sandalas/.local/lib/python3.9/site-packages/gym/envs/box2d/car_racing.py?line=500'>501</a>\u001b[0m         grass\u001b[39m.\u001b[39mappend(\n\u001b[1;32m    <a href='file:///home/sandalas/.local/lib/python3.9/site-packages/gym/envs/box2d/car_racing.py?line=501'>502</a>\u001b[0m             [\n\u001b[1;32m    <a href='file:///home/sandalas/.local/lib/python3.9/site-packages/gym/envs/box2d/car_racing.py?line=502'>503</a>\u001b[0m                 (k \u001b[39m*\u001b[39m x \u001b[39m+\u001b[39m k, k \u001b[39m*\u001b[39m y \u001b[39m+\u001b[39m \u001b[39m0\u001b[39m),\n\u001b[0;32m   (...)\u001b[0m\n\u001b[1;32m    <a href='file:///home/sandalas/.local/lib/python3.9/site-packages/gym/envs/box2d/car_racing.py?line=506'>507</a>\u001b[0m             ]\n\u001b[1;32m    <a href='file:///home/sandalas/.local/lib/python3.9/site-packages/gym/envs/box2d/car_racing.py?line=507'>508</a>\u001b[0m         )\n\u001b[1;32m    <a href='file:///home/sandalas/.local/lib/python3.9/site-packages/gym/envs/box2d/car_racing.py?line=508'>509</a>\u001b[0m \u001b[39mfor\u001b[39;00m poly \u001b[39min\u001b[39;00m grass:\n\u001b[0;32m--> <a href='file:///home/sandalas/.local/lib/python3.9/site-packages/gym/envs/box2d/car_racing.py?line=509'>510</a>\u001b[0m     \u001b[39mself\u001b[39;49m\u001b[39m.\u001b[39;49mdraw_colored_polygon(\n\u001b[1;32m    <a href='file:///home/sandalas/.local/lib/python3.9/site-packages/gym/envs/box2d/car_racing.py?line=510'>511</a>\u001b[0m         \u001b[39mself\u001b[39;49m\u001b[39m.\u001b[39;49msurf, poly, (\u001b[39m102\u001b[39;49m, \u001b[39m230\u001b[39;49m, \u001b[39m102\u001b[39;49m), zoom, translation, angle\n\u001b[1;32m    <a href='file:///home/sandalas/.local/lib/python3.9/site-packages/gym/envs/box2d/car_racing.py?line=511'>512</a>\u001b[0m     )\n\u001b[1;32m    <a href='file:///home/sandalas/.local/lib/python3.9/site-packages/gym/envs/box2d/car_racing.py?line=513'>514</a>\u001b[0m \u001b[39mfor\u001b[39;00m poly, color \u001b[39min\u001b[39;00m \u001b[39mself\u001b[39m\u001b[39m.\u001b[39mroad_poly:\n\u001b[1;32m    <a href='file:///home/sandalas/.local/lib/python3.9/site-packages/gym/envs/box2d/car_racing.py?line=514'>515</a>\u001b[0m     \u001b[39m# converting to pixel coordinates\u001b[39;00m\n\u001b[1;32m    <a href='file:///home/sandalas/.local/lib/python3.9/site-packages/gym/envs/box2d/car_racing.py?line=515'>516</a>\u001b[0m     poly \u001b[39m=\u001b[39m [(p[\u001b[39m0\u001b[39m] \u001b[39m+\u001b[39m PLAYFIELD, p[\u001b[39m1\u001b[39m] \u001b[39m+\u001b[39m PLAYFIELD) \u001b[39mfor\u001b[39;00m p \u001b[39min\u001b[39;00m poly]\n",
      "File \u001b[0;32m~/.local/lib/python3.9/site-packages/gym/envs/box2d/car_racing.py:593\u001b[0m, in \u001b[0;36mCarRacing.draw_colored_polygon\u001b[0;34m(self, surface, poly, color, zoom, translation, angle)\u001b[0m\n\u001b[1;32m    <a href='file:///home/sandalas/.local/lib/python3.9/site-packages/gym/envs/box2d/car_racing.py?line=588'>589</a>\u001b[0m poly \u001b[39m=\u001b[39m [\n\u001b[1;32m    <a href='file:///home/sandalas/.local/lib/python3.9/site-packages/gym/envs/box2d/car_racing.py?line=589'>590</a>\u001b[0m     (c[\u001b[39m0\u001b[39m] \u001b[39m*\u001b[39m zoom \u001b[39m+\u001b[39m translation[\u001b[39m0\u001b[39m], c[\u001b[39m1\u001b[39m] \u001b[39m*\u001b[39m zoom \u001b[39m+\u001b[39m translation[\u001b[39m1\u001b[39m]) \u001b[39mfor\u001b[39;00m c \u001b[39min\u001b[39;00m poly\n\u001b[1;32m    <a href='file:///home/sandalas/.local/lib/python3.9/site-packages/gym/envs/box2d/car_racing.py?line=590'>591</a>\u001b[0m ]\n\u001b[1;32m    <a href='file:///home/sandalas/.local/lib/python3.9/site-packages/gym/envs/box2d/car_racing.py?line=591'>592</a>\u001b[0m gfxdraw\u001b[39m.\u001b[39maapolygon(\u001b[39mself\u001b[39m\u001b[39m.\u001b[39msurf, poly, color)\n\u001b[0;32m--> <a href='file:///home/sandalas/.local/lib/python3.9/site-packages/gym/envs/box2d/car_racing.py?line=592'>593</a>\u001b[0m gfxdraw\u001b[39m.\u001b[39;49mfilled_polygon(\u001b[39mself\u001b[39;49m\u001b[39m.\u001b[39;49msurf, poly, color)\n",
      "\u001b[0;31mKeyboardInterrupt\u001b[0m: "
     ]
    }
   ],
   "source": [
    "#CarRacing-v0\n",
    "\n",
    "import gym\n",
    "\n",
    "import pandas as pd\n",
    "\n",
    "import matplotlib.pyplot as plt\n",
    "\n",
    "from Mapper import Mapper\n",
    "\n",
    "\n",
    "from GA import GeneticAlg\n",
    "#ga = GeneticAlg()\n",
    "#ga.run()"
   ]
  },
  {
   "cell_type": "markdown",
   "metadata": {},
   "source": [
    "### Uruchomienie środowiska w 50-ciu krokach:"
   ]
  },
  {
   "cell_type": "markdown",
   "metadata": {},
   "source": [
    "#### Trzeba zainstalować bibliotekę OpenAI Gym"
   ]
  },
  {
   "cell_type": "markdown",
   "metadata": {},
   "source": [
    "#### Jeśli poprawnie zainstalowana, pojawi się okienko z samochodzikiem jadącym naprzód"
   ]
  },
  {
   "cell_type": "code",
   "execution_count": 4,
   "metadata": {},
   "outputs": [
    {
     "name": "stdout",
     "output_type": "stream",
     "text": [
      "Track generation: 1215..1523 -> 308-tiles track\n",
      "(96, 96)\n"
     ]
    }
   ],
   "source": [
    "def test_run():\n",
    "    ENV_NAME = 'CarRacing-v1'\n",
    "    env = gym.make(ENV_NAME)\n",
    "\n",
    "    # Reset it, by putting an agent into random position\n",
    "    env.reset(seed=71)\n",
    "\n",
    "    # Render the state in ASCII\n",
    "\n",
    "\n",
    "    #for _ in range(1):\n",
    "    env.render()\n",
    "    for _ in range(100):\n",
    "        state, reward, done, info = env.step([0,0.6,0]) #11; 72; 110; 65; 6\n",
    "        env.render()\n",
    "\n",
    "\n",
    "\n",
    "        #print(state.)\n",
    "\n",
    "        #state = np.dot(state[...,:3], [0.2989, 0.5870, 0.1140])\n",
    "        # plt.imsave('out.png', state)\n",
    "\n",
    "    map = Mapper()\n",
    "    map.calculate_distances(state=state[:,:,1])\n",
    "\n",
    "\n",
    "    #plt.imsave('out1.png', state[:,:,0])\n",
    "    plt.imsave('out2.png', state[:,:,1])\n",
    "    #plt.imsave('out3.png', state[:,:,2])\n",
    "    d1_image = state[:,:,1]\n",
    "    print(d1_image.shape)\n",
    "    #plt.imsave('out.png', rgb2gray(state[:,:,1])) \n",
    "    DF = pd.DataFrame(state[:,:,1])\n",
    "    DF.to_csv(\"data.csv\")\n",
    "\n",
    "    env.close()\n",
    "\n",
    "test_run()\n"
   ]
  }
 ],
 "metadata": {
  "interpreter": {
   "hash": "31f2aee4e71d21fbe5cf8b01ff0e069b9275f58929596ceb00d14d90e3e16cd6"
  },
  "kernelspec": {
   "display_name": "Python 3.9.5 64-bit",
   "language": "python",
   "name": "python3"
  },
  "language_info": {
   "codemirror_mode": {
    "name": "ipython",
    "version": 3
   },
   "file_extension": ".py",
   "mimetype": "text/x-python",
   "name": "python",
   "nbconvert_exporter": "python",
   "pygments_lexer": "ipython3",
   "version": "3.9.5"
  },
  "orig_nbformat": 4
 },
 "nbformat": 4,
 "nbformat_minor": 2
}
